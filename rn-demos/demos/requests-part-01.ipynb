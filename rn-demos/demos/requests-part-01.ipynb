{
 "cells": [
  {
   "cell_type": "markdown",
   "metadata": {},
   "source": [
    "#  Using the 'requests' library"
   ]
  },
  {
   "cell_type": "code",
   "execution_count": 1,
   "metadata": {
    "collapsed": true
   },
   "outputs": [],
   "source": [
    "import requests"
   ]
  },
  {
   "cell_type": "code",
   "execution_count": 5,
   "metadata": {
    "collapsed": true
   },
   "outputs": [],
   "source": [
    "url = 'https://httpbin.org'"
   ]
  },
  {
   "cell_type": "markdown",
   "metadata": {
    "collapsed": true
   },
   "source": [
    "### make a GET request"
   ]
  },
  {
   "cell_type": "code",
   "execution_count": 6,
   "metadata": {
    "collapsed": false
   },
   "outputs": [],
   "source": [
    "resp = requests.get(url)"
   ]
  },
  {
   "cell_type": "code",
   "execution_count": 7,
   "metadata": {
    "collapsed": false
   },
   "outputs": [
    {
     "data": {
      "text/plain": [
       "200"
      ]
     },
     "execution_count": 7,
     "metadata": {},
     "output_type": "execute_result"
    }
   ],
   "source": [
    "# http status code 200, 300, 400, 500, etc.\n",
    "resp.status_code"
   ]
  },
  {
   "cell_type": "markdown",
   "metadata": {},
   "source": [
    "### response content"
   ]
  },
  {
   "cell_type": "code",
   "execution_count": 8,
   "metadata": {
    "collapsed": false
   },
   "outputs": [
    {
     "data": {
      "text/plain": [
       "'<!DOCTYPE html>\\n<html>\\n<head>\\n  <meta http-equiv=\\'content-type\\' value=\\'text/html;charset=utf8\\'>\\n  <meta name=\\'generator\\' value=\\'Ronn/v0.7.3 (http://github.com/rtomayko/ronn/tree/0.7.3)\\'>\\n  <title>httpbin(1): HTTP Client Testing Service</title>\\n  <style type=\\'text/css\\' media=\\'all\\'>\\n  /* style: man */\\n  body#manpage {margin:0}\\n  .mp {max-width:100ex;padding:0 9ex 1ex 4ex}\\n  .mp p,.mp pre,.mp ul,.mp ol,.mp dl {margin:0 0 20px 0}\\n  .mp h2 {margin:10px 0 0 0}\\n  .mp > p,.mp > pre,.mp > ul,.mp > ol,.mp > dl {margin-left:8ex}\\n  .mp h3 {margin:0 0 0 4ex}\\n  .mp dt {margin:0;clear:left}\\n  .mp dt.flush {float:left;width:8ex}\\n  .mp dd {margin:0 0 0 9ex}\\n  .mp h1,.mp h2,.mp h3,.mp h4 {clear:left}\\n  .mp pre {margin-bottom:20px}\\n  .mp pre+h2,.mp pre+h3 {margin-top:22px}\\n  .mp h2+pre,.mp h3+pre {margin-top:5px}\\n  .mp img {display:block;margin:auto}\\n  .mp h1.man-title {display:none}\\n  .mp,.mp code,.mp pre,.mp tt,.mp kbd,.mp samp,.mp h3,.mp h4 {font-family:monospace;font-size:14px;line-height:1.42857142857143}\\n  .mp h2 {font-size:16px;line-height:1.25}\\n  .mp h1 {font-size:20px;line-height:2}\\n  .mp {text-align:justify;background:#fff}\\n  .mp,.mp code,.mp pre,.mp pre code,.mp tt,.mp kbd,.mp samp {color:#131211}\\n  .mp h1,.mp h2,.mp h3,.mp h4 {color:#030201}\\n  .mp u {text-decoration:underline}\\n  .mp code,.mp strong,.mp b {font-weight:bold;color:#131211}\\n  .mp em,.mp var {font-style:italic;color:#232221;text-decoration:none}\\n  .mp a,.mp a:link,.mp a:hover,.mp a code,.mp a pre,.mp a tt,.mp a kbd,.mp a samp {color:#0000ff}\\n  .mp b.man-ref {font-weight:normal;color:#434241}\\n  .mp pre {padding:0 4ex}\\n  .mp pre code {font-weight:normal;color:#434241}\\n  .mp h2+pre,h3+pre {padding-left:0}\\n  ol.man-decor,ol.man-decor li {margin:3px 0 10px 0;padding:0;float:left;width:33%;list-style-type:none;text-transform:uppercase;color:#999;letter-spacing:1px}\\n  ol.man-decor {width:100%}\\n  ol.man-decor li.tl {text-align:left}\\n  ol.man-decor li.tc {text-align:center;letter-spacing:4px}\\n  ol.man-decor li.tr {text-align:right;float:right}\\n  </style>\\n  <style type=\\'text/css\\' media=\\'all\\'>\\n  /* style: 80c */\\n  .mp {max-width:86ex}\\n  ul {list-style: None; margin-left: 1em!important}\\n  .man-navigation {left:101ex}\\n  </style>\\n</head>\\n\\n<body id=\\'manpage\\'>\\n<a href=\"http://github.com/Runscope/httpbin\"><img style=\"position: absolute; top: 0; right: 0; border: 0;\" src=\"https://s3.amazonaws.com/github/ribbons/forkme_right_darkblue_121621.png\" alt=\"Fork me on GitHub\"></a>\\n\\n\\n\\n<div class=\\'mp\\'>\\n<h1>httpbin(1): HTTP Request &amp; Response Service</h1>\\n<p>Freely hosted in <a href=\"http://httpbin.org\">HTTP</a>, <a href=\"https://httpbin.org\">HTTPS</a> &amp; <a href=\"http://eu.httpbin.org/\">EU</a> flavors by <a href=\"https://www.runscope.com/\">Runscope</a></p>\\n\\n<h2 id=\"ENDPOINTS\">ENDPOINTS</h2>\\n\\n<ul>\\n<li><a href=\"/\" data-bare-link=\"true\"><code>/</code></a> This page.</li>\\n<li><a href=\"/ip\" data-bare-link=\"true\"><code>/ip</code></a> Returns Origin IP.</li>\\n<li><a href=\"/user-agent\" data-bare-link=\"true\"><code>/user-agent</code></a> Returns user-agent.</li>\\n<li><a href=\"/headers\" data-bare-link=\"true\"><code>/headers</code></a> Returns header dict.</li>\\n<li><a href=\"/get\" data-bare-link=\"true\"><code>/get</code></a> Returns GET data.</li>\\n<li><code>/post</code> Returns POST data.</li>\\n<li><code>/patch</code> Returns PATCH data.</li>\\n<li><code>/put</code> Returns PUT data.</li>\\n<li><code>/delete</code> Returns DELETE data</li>\\n<li><a href=\"/encoding/utf8\"><code>/encoding/utf8</code></a> Returns page containing UTF-8 data.</li>\\n<li><a href=\"/gzip\" data-bare-link=\"true\"><code>/gzip</code></a> Returns gzip-encoded data.</li>\\n<li><a href=\"/deflate\" data-bare-link=\"true\"><code>/deflate</code></a> Returns deflate-encoded data.</li>\\n<li><a href=\"/status/418\"><code>/status/:code</code></a> Returns given HTTP Status code.</li>\\n<li><a href=\"/response-headers?Content-Type=text%2Fplain%3B+charset%3DUTF-8&amp;Server=httpbin\"><code>/response-headers?key=val</code></a> Returns given response headers.</li>\\n<li><a href=\"/redirect/6\"><code>/redirect/:n</code></a> 302 Redirects <em>n</em> times.</li>\\n<li><a href=\"/redirect-to?url=http%3A%2F%2Fexample.com%2F\"><code>/redirect-to?url=foo</code></a> 302 Redirects to the <em>foo</em> URL.</li>\\n<li><a href=\"/relative-redirect/6\"><code>/relative-redirect/:n</code></a> 302 Relative redirects <em>n</em> times.</li>\\n<li><a href=\"/absolute-redirect/6\"><code>/absolute-redirect/:n</code></a> 302 Absolute redirects <em>n</em> times.</li>\\n<li><a href=\"/cookies\" data-bare-link=\"true\"><code>/cookies</code></a> Returns cookie data.</li>\\n<li><a href=\"/cookies/set?k2=v2&amp;k1=v1\"><code>/cookies/set?name=value</code></a> Sets one or more simple cookies.</li>\\n<li><a href=\"/cookies/delete?k2=&amp;k1=\"><code>/cookies/delete?name</code></a> Deletes one or more simple cookies.</li>\\n<li><a href=\"/basic-auth/user/passwd\"><code>/basic-auth/:user/:passwd</code></a> Challenges HTTPBasic Auth.</li>\\n<li><a href=\"/hidden-basic-auth/user/passwd\"><code>/hidden-basic-auth/:user/:passwd</code></a> 404\\'d BasicAuth.</li>\\n<li><a href=\"/digest-auth/auth/user/passwd\"><code>/digest-auth/:qop/:user/:passwd</code></a> Challenges HTTP Digest Auth.</li>\\n<li><a href=\"/stream/20\"><code>/stream/:n</code></a> Streams <em>min(n, 100)</em> lines.</li>\\n<li><a href=\"/delay/3\"><code>/delay/:n</code></a> Delays responding for <em>min(n, 10)</em> seconds.</li>\\n<li><a href=\"/drip?duration=5&amp;numbytes=5&amp;code=200\"><code>/drip?numbytes=n&amp;duration=s&amp;delay=s&amp;code=code</code></a> Drips data over a duration after an optional initial delay, then (optionally) returns with the given status code.</li>\\n<li><a href=\"/range/1024\"><code>/range/1024?duration=s&amp;chunk_size=code</code></a> Streams <em>n</em> bytes, and allows specifying a <em>Range</em> header to select a subset of the data. Accepts a <em>chunk_size</em> and request <em>duration</em> parameter.</li>\\n<li><a href=\"/html\" data-bare-link=\"true\"><code>/html</code></a> Renders an HTML Page.</li>\\n<li><a href=\"/robots.txt\" data-bare-link=\"true\"><code>/robots.txt</code></a> Returns some robots.txt rules.</li>\\n<li><a href=\"/deny\" data-bare-link=\"true\"><code>/deny</code></a> Denied by robots.txt file.</li>\\n<li><a href=\"/cache\" data-bare-link=\"true\"><code>/cache</code></a> Returns 200 unless an If-Modified-Since or If-None-Match header is provided, when it returns a 304.</li>\\n<li><a href=\"/cache/60\"><code>/cache/:n</code></a> Sets a Cache-Control header for <em>n</em> seconds.</li>\\n<li><a href=\"/bytes/1024\"><code>/bytes/:n</code></a> Generates <em>n</em> random bytes of binary data, accepts optional <em>seed</em> integer parameter.</li>\\n<li><a href=\"/stream-bytes/1024\"><code>/stream-bytes/:n</code></a> Streams <em>n</em> random bytes of binary data, accepts optional <em>seed</em> and <em>chunk_size</em> integer parameters.</li>\\n<li><a href=\"/links/10\"><code>/links/:n</code></a> Returns page containing <em>n</em> HTML links.</li>\\n<li><a href=\"/image\"><code>/image</code></a> Returns page containing an image based on sent Accept header.</li>\\n<li><a href=\"/image/png\"><code>/image/png</code></a> Returns page containing a PNG image.</li>\\n<li><a href=\"/image/jpeg\"><code>/image/jpeg</code></a> Returns page containing a JPEG image.</li>\\n<li><a href=\"/image/webp\"><code>/image/webp</code></a> Returns page containing a WEBP image.</li>\\n<li><a href=\"/image/svg\"><code>/image/svg</code></a> Returns page containing a SVG image.</li>\\n<li><a href=\"/forms/post\" data-bare-link=\"true\"><code>/forms/post</code></a> HTML form that submits to <em>/post</em></li>\\n<li><a href=\"/xml\" data-bare-link=\"true\"><code>/xml</code></a> Returns some XML</li>\\n</ul>\\n\\n\\n<h2 id=\"DESCRIPTION\">DESCRIPTION</h2>\\n\\n<p>Testing an HTTP Library can become difficult sometimes. <a href=\"http://requestb.in\">RequestBin</a> is fantastic for testing POST requests, but doesn\\'t let you control the response. This exists to cover all kinds of HTTP scenarios. Additional endpoints are being considered.</p>\\n\\n<p>All endpoint responses are JSON-encoded.</p>\\n\\n<h2 id=\"EXAMPLES\">EXAMPLES</h2>\\n\\n<h3 id=\"-curl-http-httpbin-org-ip\">$ curl http://httpbin.org/ip</h3>\\n\\n<pre><code>{\"origin\": \"24.127.96.129\"}\\n</code></pre>\\n\\n<h3 id=\"-curl-http-httpbin-org-user-agent\">$ curl http://httpbin.org/user-agent</h3>\\n\\n<pre><code>{\"user-agent\": \"curl/7.19.7 (universal-apple-darwin10.0) libcurl/7.19.7 OpenSSL/0.9.8l zlib/1.2.3\"}\\n</code></pre>\\n\\n<h3 id=\"-curl-http-httpbin-org-get\">$ curl http://httpbin.org/get</h3>\\n\\n<pre><code>{\\n   \"args\": {},\\n   \"headers\": {\\n      \"Accept\": \"*/*\",\\n      \"Connection\": \"close\",\\n      \"Content-Length\": \"\",\\n      \"Content-Type\": \"\",\\n      \"Host\": \"httpbin.org\",\\n      \"User-Agent\": \"curl/7.19.7 (universal-apple-darwin10.0) libcurl/7.19.7 OpenSSL/0.9.8l zlib/1.2.3\"\\n   },\\n   \"origin\": \"24.127.96.129\",\\n   \"url\": \"http://httpbin.org/get\"\\n}\\n</code></pre>\\n\\n<h3 id=\"-curl-I-http-httpbin-org-status-418\">$ curl -I http://httpbin.org/status/418</h3>\\n\\n<pre><code>HTTP/1.1 418 I\\'M A TEAPOT\\nServer: nginx/0.7.67\\nDate: Mon, 13 Jun 2011 04:25:38 GMT\\nConnection: close\\nx-more-info: http://tools.ietf.org/html/rfc2324\\nContent-Length: 135\\n</code></pre>\\n\\n<h3 id=\"-curl-https-httpbin-org-get-show_env-1\">$ curl https://httpbin.org/get?show_env=1</h3>\\n\\n<pre><code>{\\n  \"headers\": {\\n    \"Content-Length\": \"\",\\n    \"Accept-Language\": \"en-US,en;q=0.8\",\\n    \"Accept-Encoding\": \"gzip,deflate,sdch\",\\n    \"X-Forwarded-Port\": \"443\",\\n    \"X-Forwarded-For\": \"109.60.101.240\",\\n    \"Host\": \"httpbin.org\",\\n    \"Accept\": \"text/html,application/xhtml+xml,application/xml;q=0.9,*/*;q=0.8\",\\n    \"User-Agent\": \"Mozilla/5.0 (X11; Linux i686) AppleWebKit/535.11 (KHTML, like Gecko) Chrome/17.0.963.83 Safari/535.11\",\\n    \"X-Request-Start\": \"1350053933441\",\\n    \"Accept-Charset\": \"ISO-8859-1,utf-8;q=0.7,*;q=0.3\",\\n    \"Connection\": \"keep-alive\",\\n    \"X-Forwarded-Proto\": \"https\",\\n    \"Cookie\": \"_gauges_unique_day=1; _gauges_unique_month=1; _gauges_unique_year=1; _gauges_unique=1; _gauges_unique_hour=1\",\\n    \"Content-Type\": \"\"\\n  },\\n  \"args\": {\\n    \"show_env\": \"1\"\\n  },\\n  \"origin\": \"109.60.101.240\",\\n  \"url\": \"http://httpbin.org/get?show_env=1\"\\n}\\n</code></pre>\\n\\n<h2 id=\"Installing-and-running-from-PyPI\">Installing and running from PyPI</h2>\\n\\n<p>You can install httpbin as a library from PyPI and run it as a WSGI app.  For example, using Gunicorn:</p>\\n\\n<pre><code class=\"bash\">$ pip install httpbin\\n$ gunicorn httpbin:app\\n</code></pre>\\n\\n<h2 id=\"Changelog\">Changelog</h2>\\n\\n<ul>\\n<li>0.2.0: Added an XML endpoint.  Also fixes several bugs with unicode, CORS headers, digest auth, and more.</li>\\n<li>0.1.2: Fix a couple Python3 bugs with the random byte endpoints, fix a bug when uploading files without a Content-Type header set.</li>\\n<li>0.1.1: Added templates as data in setup.py</li>\\n<li>0.1.0: Added python3 support and (re)publish on PyPI</li>\\n</ul>\\n\\n\\n<h2 id=\"AUTHOR\">AUTHOR</h2>\\n\\n<p>A <a href=\"https://www.runscope.com/community\">Runscope Community Project</a>.</p>\\n<p>Originally created by <a href=\"http://kennethreitz.com/\">Kenneth Reitz</a>.</p>\\n\\n<h2 id=\"SEE-ALSO\">SEE ALSO</h2>\\n\\n<p><a href=\"https://www.hurl.it\">Hurl.it</a> - Make HTTP requests.</p>\\n<p><a href=\"http://requestb.in\">RequestBin</a> - Inspect HTTP requests.</p>\\n<p><a href=\"http://python-requests.org\" data-bare-link=\"true\">http://python-requests.org</a></p>\\n\\n</div>\\n\\n\\n    \\n<script type=\"text/javascript\">\\n  (function() {\\n    window._pa = window._pa || {};\\n    _pa.productId = \"httpbin\";\\n    var pa = document.createElement(\\'script\\'); pa.type = \\'text/javascript\\'; pa.async = true;\\n    pa.src = (\\'https:\\' == document.location.protocol ? \\'https:\\' : \\'http:\\') + \"//tag.perfectaudience.com/serve/5226171f87bc6890da0000a0.js\";\\n    var s = document.getElementsByTagName(\\'script\\')[0]; s.parentNode.insertBefore(pa, s);\\n  })();\\n</script>\\n\\n<script>\\n  (function(i,s,o,g,r,a,m){i[\\'GoogleAnalyticsObject\\']=r;i[r]=i[r]||function(){\\n  (i[r].q=i[r].q||[]).push(arguments)},i[r].l=1*new Date();a=s.createElement(o),\\n  m=s.getElementsByTagName(o)[0];a.async=1;a.src=g;m.parentNode.insertBefore(a,m)\\n  })(window,document,\\'script\\',\\'//www.google-analytics.com/analytics.js\\',\\'ga\\');\\n\\n  ga(\\'create\\', \\'UA-36620802-9\\', \\'auto\\');\\n  ga(\\'send\\', \\'pageview\\');\\n\\n</script>\\n\\n\\n</body>\\n</html>'"
      ]
     },
     "execution_count": 8,
     "metadata": {},
     "output_type": "execute_result"
    }
   ],
   "source": [
    "# Unicode decoded text of a request\n",
    "resp.text"
   ]
  },
  {
   "cell_type": "code",
   "execution_count": 9,
   "metadata": {
    "collapsed": false
   },
   "outputs": [
    {
     "data": {
      "text/plain": [
       "b'<!DOCTYPE html>\\n<html>\\n<head>\\n  <meta http-equiv=\\'content-type\\' value=\\'text/html;charset=utf8\\'>\\n  <meta name=\\'generator\\' value=\\'Ronn/v0.7.3 (http://github.com/rtomayko/ronn/tree/0.7.3)\\'>\\n  <title>httpbin(1): HTTP Client Testing Service</title>\\n  <style type=\\'text/css\\' media=\\'all\\'>\\n  /* style: man */\\n  body#manpage {margin:0}\\n  .mp {max-width:100ex;padding:0 9ex 1ex 4ex}\\n  .mp p,.mp pre,.mp ul,.mp ol,.mp dl {margin:0 0 20px 0}\\n  .mp h2 {margin:10px 0 0 0}\\n  .mp > p,.mp > pre,.mp > ul,.mp > ol,.mp > dl {margin-left:8ex}\\n  .mp h3 {margin:0 0 0 4ex}\\n  .mp dt {margin:0;clear:left}\\n  .mp dt.flush {float:left;width:8ex}\\n  .mp dd {margin:0 0 0 9ex}\\n  .mp h1,.mp h2,.mp h3,.mp h4 {clear:left}\\n  .mp pre {margin-bottom:20px}\\n  .mp pre+h2,.mp pre+h3 {margin-top:22px}\\n  .mp h2+pre,.mp h3+pre {margin-top:5px}\\n  .mp img {display:block;margin:auto}\\n  .mp h1.man-title {display:none}\\n  .mp,.mp code,.mp pre,.mp tt,.mp kbd,.mp samp,.mp h3,.mp h4 {font-family:monospace;font-size:14px;line-height:1.42857142857143}\\n  .mp h2 {font-size:16px;line-height:1.25}\\n  .mp h1 {font-size:20px;line-height:2}\\n  .mp {text-align:justify;background:#fff}\\n  .mp,.mp code,.mp pre,.mp pre code,.mp tt,.mp kbd,.mp samp {color:#131211}\\n  .mp h1,.mp h2,.mp h3,.mp h4 {color:#030201}\\n  .mp u {text-decoration:underline}\\n  .mp code,.mp strong,.mp b {font-weight:bold;color:#131211}\\n  .mp em,.mp var {font-style:italic;color:#232221;text-decoration:none}\\n  .mp a,.mp a:link,.mp a:hover,.mp a code,.mp a pre,.mp a tt,.mp a kbd,.mp a samp {color:#0000ff}\\n  .mp b.man-ref {font-weight:normal;color:#434241}\\n  .mp pre {padding:0 4ex}\\n  .mp pre code {font-weight:normal;color:#434241}\\n  .mp h2+pre,h3+pre {padding-left:0}\\n  ol.man-decor,ol.man-decor li {margin:3px 0 10px 0;padding:0;float:left;width:33%;list-style-type:none;text-transform:uppercase;color:#999;letter-spacing:1px}\\n  ol.man-decor {width:100%}\\n  ol.man-decor li.tl {text-align:left}\\n  ol.man-decor li.tc {text-align:center;letter-spacing:4px}\\n  ol.man-decor li.tr {text-align:right;float:right}\\n  </style>\\n  <style type=\\'text/css\\' media=\\'all\\'>\\n  /* style: 80c */\\n  .mp {max-width:86ex}\\n  ul {list-style: None; margin-left: 1em!important}\\n  .man-navigation {left:101ex}\\n  </style>\\n</head>\\n\\n<body id=\\'manpage\\'>\\n<a href=\"http://github.com/Runscope/httpbin\"><img style=\"position: absolute; top: 0; right: 0; border: 0;\" src=\"https://s3.amazonaws.com/github/ribbons/forkme_right_darkblue_121621.png\" alt=\"Fork me on GitHub\"></a>\\n\\n\\n\\n<div class=\\'mp\\'>\\n<h1>httpbin(1): HTTP Request &amp; Response Service</h1>\\n<p>Freely hosted in <a href=\"http://httpbin.org\">HTTP</a>, <a href=\"https://httpbin.org\">HTTPS</a> &amp; <a href=\"http://eu.httpbin.org/\">EU</a> flavors by <a href=\"https://www.runscope.com/\">Runscope</a></p>\\n\\n<h2 id=\"ENDPOINTS\">ENDPOINTS</h2>\\n\\n<ul>\\n<li><a href=\"/\" data-bare-link=\"true\"><code>/</code></a> This page.</li>\\n<li><a href=\"/ip\" data-bare-link=\"true\"><code>/ip</code></a> Returns Origin IP.</li>\\n<li><a href=\"/user-agent\" data-bare-link=\"true\"><code>/user-agent</code></a> Returns user-agent.</li>\\n<li><a href=\"/headers\" data-bare-link=\"true\"><code>/headers</code></a> Returns header dict.</li>\\n<li><a href=\"/get\" data-bare-link=\"true\"><code>/get</code></a> Returns GET data.</li>\\n<li><code>/post</code> Returns POST data.</li>\\n<li><code>/patch</code> Returns PATCH data.</li>\\n<li><code>/put</code> Returns PUT data.</li>\\n<li><code>/delete</code> Returns DELETE data</li>\\n<li><a href=\"/encoding/utf8\"><code>/encoding/utf8</code></a> Returns page containing UTF-8 data.</li>\\n<li><a href=\"/gzip\" data-bare-link=\"true\"><code>/gzip</code></a> Returns gzip-encoded data.</li>\\n<li><a href=\"/deflate\" data-bare-link=\"true\"><code>/deflate</code></a> Returns deflate-encoded data.</li>\\n<li><a href=\"/status/418\"><code>/status/:code</code></a> Returns given HTTP Status code.</li>\\n<li><a href=\"/response-headers?Content-Type=text%2Fplain%3B+charset%3DUTF-8&amp;Server=httpbin\"><code>/response-headers?key=val</code></a> Returns given response headers.</li>\\n<li><a href=\"/redirect/6\"><code>/redirect/:n</code></a> 302 Redirects <em>n</em> times.</li>\\n<li><a href=\"/redirect-to?url=http%3A%2F%2Fexample.com%2F\"><code>/redirect-to?url=foo</code></a> 302 Redirects to the <em>foo</em> URL.</li>\\n<li><a href=\"/relative-redirect/6\"><code>/relative-redirect/:n</code></a> 302 Relative redirects <em>n</em> times.</li>\\n<li><a href=\"/absolute-redirect/6\"><code>/absolute-redirect/:n</code></a> 302 Absolute redirects <em>n</em> times.</li>\\n<li><a href=\"/cookies\" data-bare-link=\"true\"><code>/cookies</code></a> Returns cookie data.</li>\\n<li><a href=\"/cookies/set?k2=v2&amp;k1=v1\"><code>/cookies/set?name=value</code></a> Sets one or more simple cookies.</li>\\n<li><a href=\"/cookies/delete?k2=&amp;k1=\"><code>/cookies/delete?name</code></a> Deletes one or more simple cookies.</li>\\n<li><a href=\"/basic-auth/user/passwd\"><code>/basic-auth/:user/:passwd</code></a> Challenges HTTPBasic Auth.</li>\\n<li><a href=\"/hidden-basic-auth/user/passwd\"><code>/hidden-basic-auth/:user/:passwd</code></a> 404\\'d BasicAuth.</li>\\n<li><a href=\"/digest-auth/auth/user/passwd\"><code>/digest-auth/:qop/:user/:passwd</code></a> Challenges HTTP Digest Auth.</li>\\n<li><a href=\"/stream/20\"><code>/stream/:n</code></a> Streams <em>min(n, 100)</em> lines.</li>\\n<li><a href=\"/delay/3\"><code>/delay/:n</code></a> Delays responding for <em>min(n, 10)</em> seconds.</li>\\n<li><a href=\"/drip?duration=5&amp;numbytes=5&amp;code=200\"><code>/drip?numbytes=n&amp;duration=s&amp;delay=s&amp;code=code</code></a> Drips data over a duration after an optional initial delay, then (optionally) returns with the given status code.</li>\\n<li><a href=\"/range/1024\"><code>/range/1024?duration=s&amp;chunk_size=code</code></a> Streams <em>n</em> bytes, and allows specifying a <em>Range</em> header to select a subset of the data. Accepts a <em>chunk_size</em> and request <em>duration</em> parameter.</li>\\n<li><a href=\"/html\" data-bare-link=\"true\"><code>/html</code></a> Renders an HTML Page.</li>\\n<li><a href=\"/robots.txt\" data-bare-link=\"true\"><code>/robots.txt</code></a> Returns some robots.txt rules.</li>\\n<li><a href=\"/deny\" data-bare-link=\"true\"><code>/deny</code></a> Denied by robots.txt file.</li>\\n<li><a href=\"/cache\" data-bare-link=\"true\"><code>/cache</code></a> Returns 200 unless an If-Modified-Since or If-None-Match header is provided, when it returns a 304.</li>\\n<li><a href=\"/cache/60\"><code>/cache/:n</code></a> Sets a Cache-Control header for <em>n</em> seconds.</li>\\n<li><a href=\"/bytes/1024\"><code>/bytes/:n</code></a> Generates <em>n</em> random bytes of binary data, accepts optional <em>seed</em> integer parameter.</li>\\n<li><a href=\"/stream-bytes/1024\"><code>/stream-bytes/:n</code></a> Streams <em>n</em> random bytes of binary data, accepts optional <em>seed</em> and <em>chunk_size</em> integer parameters.</li>\\n<li><a href=\"/links/10\"><code>/links/:n</code></a> Returns page containing <em>n</em> HTML links.</li>\\n<li><a href=\"/image\"><code>/image</code></a> Returns page containing an image based on sent Accept header.</li>\\n<li><a href=\"/image/png\"><code>/image/png</code></a> Returns page containing a PNG image.</li>\\n<li><a href=\"/image/jpeg\"><code>/image/jpeg</code></a> Returns page containing a JPEG image.</li>\\n<li><a href=\"/image/webp\"><code>/image/webp</code></a> Returns page containing a WEBP image.</li>\\n<li><a href=\"/image/svg\"><code>/image/svg</code></a> Returns page containing a SVG image.</li>\\n<li><a href=\"/forms/post\" data-bare-link=\"true\"><code>/forms/post</code></a> HTML form that submits to <em>/post</em></li>\\n<li><a href=\"/xml\" data-bare-link=\"true\"><code>/xml</code></a> Returns some XML</li>\\n</ul>\\n\\n\\n<h2 id=\"DESCRIPTION\">DESCRIPTION</h2>\\n\\n<p>Testing an HTTP Library can become difficult sometimes. <a href=\"http://requestb.in\">RequestBin</a> is fantastic for testing POST requests, but doesn\\'t let you control the response. This exists to cover all kinds of HTTP scenarios. Additional endpoints are being considered.</p>\\n\\n<p>All endpoint responses are JSON-encoded.</p>\\n\\n<h2 id=\"EXAMPLES\">EXAMPLES</h2>\\n\\n<h3 id=\"-curl-http-httpbin-org-ip\">$ curl http://httpbin.org/ip</h3>\\n\\n<pre><code>{\"origin\": \"24.127.96.129\"}\\n</code></pre>\\n\\n<h3 id=\"-curl-http-httpbin-org-user-agent\">$ curl http://httpbin.org/user-agent</h3>\\n\\n<pre><code>{\"user-agent\": \"curl/7.19.7 (universal-apple-darwin10.0) libcurl/7.19.7 OpenSSL/0.9.8l zlib/1.2.3\"}\\n</code></pre>\\n\\n<h3 id=\"-curl-http-httpbin-org-get\">$ curl http://httpbin.org/get</h3>\\n\\n<pre><code>{\\n   \"args\": {},\\n   \"headers\": {\\n      \"Accept\": \"*/*\",\\n      \"Connection\": \"close\",\\n      \"Content-Length\": \"\",\\n      \"Content-Type\": \"\",\\n      \"Host\": \"httpbin.org\",\\n      \"User-Agent\": \"curl/7.19.7 (universal-apple-darwin10.0) libcurl/7.19.7 OpenSSL/0.9.8l zlib/1.2.3\"\\n   },\\n   \"origin\": \"24.127.96.129\",\\n   \"url\": \"http://httpbin.org/get\"\\n}\\n</code></pre>\\n\\n<h3 id=\"-curl-I-http-httpbin-org-status-418\">$ curl -I http://httpbin.org/status/418</h3>\\n\\n<pre><code>HTTP/1.1 418 I\\'M A TEAPOT\\nServer: nginx/0.7.67\\nDate: Mon, 13 Jun 2011 04:25:38 GMT\\nConnection: close\\nx-more-info: http://tools.ietf.org/html/rfc2324\\nContent-Length: 135\\n</code></pre>\\n\\n<h3 id=\"-curl-https-httpbin-org-get-show_env-1\">$ curl https://httpbin.org/get?show_env=1</h3>\\n\\n<pre><code>{\\n  \"headers\": {\\n    \"Content-Length\": \"\",\\n    \"Accept-Language\": \"en-US,en;q=0.8\",\\n    \"Accept-Encoding\": \"gzip,deflate,sdch\",\\n    \"X-Forwarded-Port\": \"443\",\\n    \"X-Forwarded-For\": \"109.60.101.240\",\\n    \"Host\": \"httpbin.org\",\\n    \"Accept\": \"text/html,application/xhtml+xml,application/xml;q=0.9,*/*;q=0.8\",\\n    \"User-Agent\": \"Mozilla/5.0 (X11; Linux i686) AppleWebKit/535.11 (KHTML, like Gecko) Chrome/17.0.963.83 Safari/535.11\",\\n    \"X-Request-Start\": \"1350053933441\",\\n    \"Accept-Charset\": \"ISO-8859-1,utf-8;q=0.7,*;q=0.3\",\\n    \"Connection\": \"keep-alive\",\\n    \"X-Forwarded-Proto\": \"https\",\\n    \"Cookie\": \"_gauges_unique_day=1; _gauges_unique_month=1; _gauges_unique_year=1; _gauges_unique=1; _gauges_unique_hour=1\",\\n    \"Content-Type\": \"\"\\n  },\\n  \"args\": {\\n    \"show_env\": \"1\"\\n  },\\n  \"origin\": \"109.60.101.240\",\\n  \"url\": \"http://httpbin.org/get?show_env=1\"\\n}\\n</code></pre>\\n\\n<h2 id=\"Installing-and-running-from-PyPI\">Installing and running from PyPI</h2>\\n\\n<p>You can install httpbin as a library from PyPI and run it as a WSGI app.  For example, using Gunicorn:</p>\\n\\n<pre><code class=\"bash\">$ pip install httpbin\\n$ gunicorn httpbin:app\\n</code></pre>\\n\\n<h2 id=\"Changelog\">Changelog</h2>\\n\\n<ul>\\n<li>0.2.0: Added an XML endpoint.  Also fixes several bugs with unicode, CORS headers, digest auth, and more.</li>\\n<li>0.1.2: Fix a couple Python3 bugs with the random byte endpoints, fix a bug when uploading files without a Content-Type header set.</li>\\n<li>0.1.1: Added templates as data in setup.py</li>\\n<li>0.1.0: Added python3 support and (re)publish on PyPI</li>\\n</ul>\\n\\n\\n<h2 id=\"AUTHOR\">AUTHOR</h2>\\n\\n<p>A <a href=\"https://www.runscope.com/community\">Runscope Community Project</a>.</p>\\n<p>Originally created by <a href=\"http://kennethreitz.com/\">Kenneth Reitz</a>.</p>\\n\\n<h2 id=\"SEE-ALSO\">SEE ALSO</h2>\\n\\n<p><a href=\"https://www.hurl.it\">Hurl.it</a> - Make HTTP requests.</p>\\n<p><a href=\"http://requestb.in\">RequestBin</a> - Inspect HTTP requests.</p>\\n<p><a href=\"http://python-requests.org\" data-bare-link=\"true\">http://python-requests.org</a></p>\\n\\n</div>\\n\\n\\n    \\n<script type=\"text/javascript\">\\n  (function() {\\n    window._pa = window._pa || {};\\n    _pa.productId = \"httpbin\";\\n    var pa = document.createElement(\\'script\\'); pa.type = \\'text/javascript\\'; pa.async = true;\\n    pa.src = (\\'https:\\' == document.location.protocol ? \\'https:\\' : \\'http:\\') + \"//tag.perfectaudience.com/serve/5226171f87bc6890da0000a0.js\";\\n    var s = document.getElementsByTagName(\\'script\\')[0]; s.parentNode.insertBefore(pa, s);\\n  })();\\n</script>\\n\\n<script>\\n  (function(i,s,o,g,r,a,m){i[\\'GoogleAnalyticsObject\\']=r;i[r]=i[r]||function(){\\n  (i[r].q=i[r].q||[]).push(arguments)},i[r].l=1*new Date();a=s.createElement(o),\\n  m=s.getElementsByTagName(o)[0];a.async=1;a.src=g;m.parentNode.insertBefore(a,m)\\n  })(window,document,\\'script\\',\\'//www.google-analytics.com/analytics.js\\',\\'ga\\');\\n\\n  ga(\\'create\\', \\'UA-36620802-9\\', \\'auto\\');\\n  ga(\\'send\\', \\'pageview\\');\\n\\n</script>\\n\\n\\n</body>\\n</html>'"
      ]
     },
     "execution_count": 9,
     "metadata": {},
     "output_type": "execute_result"
    }
   ],
   "source": [
    "# raw binary content of a request\n",
    "resp.content"
   ]
  },
  {
   "cell_type": "code",
   "execution_count": 11,
   "metadata": {
    "collapsed": false
   },
   "outputs": [
    {
     "name": "stdout",
     "output_type": "stream",
     "text": [
      "<bound method Response.json of <Response [200]>>\n"
     ]
    }
   ],
   "source": [
    "# response content interpreted as JSON (Note: JSON <-> python dict - use json in stdlib)\n",
    "resp.json"
   ]
  },
  {
   "cell_type": "markdown",
   "metadata": {},
   "source": [
    "### http headers"
   ]
  },
  {
   "cell_type": "code",
   "execution_count": 12,
   "metadata": {
    "collapsed": false
   },
   "outputs": [],
   "source": [
    "# http header\n",
    "resp = requests.head(url)"
   ]
  },
  {
   "cell_type": "code",
   "execution_count": 16,
   "metadata": {
    "collapsed": false
   },
   "outputs": [
    {
     "ename": "KeyError",
     "evalue": "'last-modified'",
     "output_type": "error",
     "traceback": [
      "\u001b[0;31m---------------------------------------------------------------------------\u001b[0m",
      "\u001b[0;31mKeyError\u001b[0m                                  Traceback (most recent call last)",
      "\u001b[0;32m<ipython-input-16-50378e5451f0>\u001b[0m in \u001b[0;36m<module>\u001b[0;34m()\u001b[0m\n\u001b[0;32m----> 1\u001b[0;31m \u001b[0mprint\u001b[0m\u001b[0;34m(\u001b[0m\u001b[0mresp\u001b[0m\u001b[0;34m.\u001b[0m\u001b[0mheaders\u001b[0m\u001b[0;34m[\u001b[0m\u001b[0;34m'last-modified'\u001b[0m\u001b[0;34m]\u001b[0m\u001b[0;34m)\u001b[0m\u001b[0;34m\u001b[0m\u001b[0m\n\u001b[0m\u001b[1;32m      2\u001b[0m \u001b[0mprint\u001b[0m\u001b[0;34m(\u001b[0m\u001b[0mresp\u001b[0m\u001b[0;34m.\u001b[0m\u001b[0mheaders\u001b[0m\u001b[0;34m[\u001b[0m\u001b[0;34m'content-type'\u001b[0m\u001b[0;34m]\u001b[0m\u001b[0;34m)\u001b[0m\u001b[0;34m\u001b[0m\u001b[0m\n\u001b[1;32m      3\u001b[0m \u001b[0mresp\u001b[0m\u001b[0;34m.\u001b[0m\u001b[0mheaders\u001b[0m\u001b[0;34m[\u001b[0m\u001b[0;34m'content-length'\u001b[0m\u001b[0;34m]\u001b[0m\u001b[0;34m\u001b[0m\u001b[0m\n",
      "\u001b[0;32m/usr/local/lib/python3.6/site-packages/requests/structures.py\u001b[0m in \u001b[0;36m__getitem__\u001b[0;34m(self, key)\u001b[0m\n\u001b[1;32m     52\u001b[0m \u001b[0;34m\u001b[0m\u001b[0m\n\u001b[1;32m     53\u001b[0m     \u001b[0;32mdef\u001b[0m \u001b[0m__getitem__\u001b[0m\u001b[0;34m(\u001b[0m\u001b[0mself\u001b[0m\u001b[0;34m,\u001b[0m \u001b[0mkey\u001b[0m\u001b[0;34m)\u001b[0m\u001b[0;34m:\u001b[0m\u001b[0;34m\u001b[0m\u001b[0m\n\u001b[0;32m---> 54\u001b[0;31m         \u001b[0;32mreturn\u001b[0m \u001b[0mself\u001b[0m\u001b[0;34m.\u001b[0m\u001b[0m_store\u001b[0m\u001b[0;34m[\u001b[0m\u001b[0mkey\u001b[0m\u001b[0;34m.\u001b[0m\u001b[0mlower\u001b[0m\u001b[0;34m(\u001b[0m\u001b[0;34m)\u001b[0m\u001b[0;34m]\u001b[0m\u001b[0;34m[\u001b[0m\u001b[0;36m1\u001b[0m\u001b[0;34m]\u001b[0m\u001b[0;34m\u001b[0m\u001b[0m\n\u001b[0m\u001b[1;32m     55\u001b[0m \u001b[0;34m\u001b[0m\u001b[0m\n\u001b[1;32m     56\u001b[0m     \u001b[0;32mdef\u001b[0m \u001b[0m__delitem__\u001b[0m\u001b[0;34m(\u001b[0m\u001b[0mself\u001b[0m\u001b[0;34m,\u001b[0m \u001b[0mkey\u001b[0m\u001b[0;34m)\u001b[0m\u001b[0;34m:\u001b[0m\u001b[0;34m\u001b[0m\u001b[0m\n",
      "\u001b[0;31mKeyError\u001b[0m: 'last-modified'"
     ]
    }
   ],
   "source": [
    "print(resp.headers[])\n",
    "print(resp.headers['content-type'])\n",
    "resp.headers['content-length']"
   ]
  },
  {
   "cell_type": "markdown",
   "metadata": {},
   "source": [
    "### Authentication"
   ]
  },
  {
   "cell_type": "code",
   "execution_count": 17,
   "metadata": {
    "collapsed": true
   },
   "outputs": [],
   "source": [
    "# Simple username and password\n",
    "resp = requests.get('http://pypi.python.org/pypi?:action=login',\n",
    "                    auth=('user', 'password'))"
   ]
  },
  {
   "cell_type": "code",
   "execution_count": null,
   "metadata": {
    "collapsed": true
   },
   "outputs": [],
   "source": [
    "# Pass cookie from one request to the next\n",
    "resp1 = requests.get(url)\n",
    "resp2 = requests.get(url, cookies=resp1.cookies)"
   ]
  },
  {
   "cell_type": "markdown",
   "metadata": {},
   "source": [
    "### Uploading content"
   ]
  },
  {
   "cell_type": "code",
   "execution_count": null,
   "metadata": {
    "collapsed": true
   },
   "outputs": [],
   "source": [
    "# Upload content\n",
    "url = 'http://httpbin.org/post'\n",
    "files = { 'file': ('data.csv', open('data.csv', 'rb')) }\n",
    "r = requests.post(url, files=files)"
   ]
  },
  {
   "cell_type": "markdown",
   "metadata": {},
   "source": [
    "### Working with JSON"
   ]
  },
  {
   "cell_type": "code",
   "execution_count": null,
   "metadata": {
    "collapsed": false
   },
   "outputs": [],
   "source": [
    "r = requests.get('http://httpbin.org/get?name=Carol&n=42',\n",
    "    headers = { 'User-agent': 'goaway/1.0' })\n",
    "resp = r.json\n",
    "resp['headers']\n",
    "resp['args']"
   ]
  },
  {
   "cell_type": "markdown",
   "metadata": {},
   "source": [
    "Practice with  http://httpbin.org as a safe service to test out code."
   ]
  }
 ],
 "metadata": {
  "kernelspec": {
   "display_name": "Python 3",
   "language": "python",
   "name": "python3"
  },
  "language_info": {
   "codemirror_mode": {
    "name": "ipython",
    "version": 3
   },
   "file_extension": ".py",
   "mimetype": "text/x-python",
   "name": "python",
   "nbconvert_exporter": "python",
   "pygments_lexer": "ipython3",
   "version": "3.6.0"
  }
 },
 "nbformat": 4,
 "nbformat_minor": 2
}
